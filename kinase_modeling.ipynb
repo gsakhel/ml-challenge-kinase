{
 "cells": [
  {
   "cell_type": "markdown",
   "metadata": {},
   "source": [
    "# Contents\n",
    "* [Objective](#objective)\n",
    "* [Setup](#setup)\n",
    "* [Data](#data)\n",
    "* [Data Exploration](#data-exploration)\n",
    "* [Research](#research)\n",
    "* [Preprocessing](#preprocessing)\n",
    "* [Model](#model)"
   ]
  },
  {
   "cell_type": "markdown",
   "metadata": {},
   "source": [
    "# Objective\n",
    "Predict pKi against different kinases given molecular structure in SMILES format"
   ]
  },
  {
   "cell_type": "markdown",
   "metadata": {},
   "source": [
    "# Setup"
   ]
  },
  {
   "cell_type": "code",
   "execution_count": 78,
   "metadata": {},
   "outputs": [],
   "source": [
    "import pandas as pd\n",
    "import matplotlib.pyplot as plt\n",
    "from mordred import Calculator, descriptors\n",
    "from rdkit import Chem\n",
    "from sklearn.preprocessing import MinMaxScaler\n",
    "import pickle\n",
    "import torch\n",
    "from sklearn.model_selection import train_test_split\n",
    "\n",
    "from torch.utils.data import Dataset\n",
    "from torch.utils.data import DataLoader\n",
    "from torch import nn"
   ]
  },
  {
   "cell_type": "markdown",
   "metadata": {},
   "source": [
    "# Data"
   ]
  },
  {
   "cell_type": "code",
   "execution_count": 4,
   "metadata": {},
   "outputs": [
    {
     "data": {
      "text/html": [
       "<div>\n",
       "<style scoped>\n",
       "    .dataframe tbody tr th:only-of-type {\n",
       "        vertical-align: middle;\n",
       "    }\n",
       "\n",
       "    .dataframe tbody tr th {\n",
       "        vertical-align: top;\n",
       "    }\n",
       "\n",
       "    .dataframe thead th {\n",
       "        text-align: right;\n",
       "    }\n",
       "</style>\n",
       "<table border=\"1\" class=\"dataframe\">\n",
       "  <thead>\n",
       "    <tr style=\"text-align: right;\">\n",
       "      <th></th>\n",
       "      <th>SMILES</th>\n",
       "      <th>measurement_type</th>\n",
       "      <th>measurement_value</th>\n",
       "      <th>Kinase_name</th>\n",
       "    </tr>\n",
       "  </thead>\n",
       "  <tbody>\n",
       "    <tr>\n",
       "      <th>0</th>\n",
       "      <td>C#CCCOC(=O)N1CCC(n2cc(C(N)=O)c(Nc3ccc(F)cc3)n2...</td>\n",
       "      <td>pIC50</td>\n",
       "      <td>6.81</td>\n",
       "      <td>JAK2</td>\n",
       "    </tr>\n",
       "    <tr>\n",
       "      <th>1</th>\n",
       "      <td>C#CCCOC(=O)N1CCC(n2cc(C(N)=O)c(Nc3ccc(F)cc3)n2...</td>\n",
       "      <td>pIC50</td>\n",
       "      <td>8.05</td>\n",
       "      <td>JAK1</td>\n",
       "    </tr>\n",
       "    <tr>\n",
       "      <th>2</th>\n",
       "      <td>C#CCN(c1ccc(C#N)cn1)C1CCN(c2ncnc3[nH]ccc23)C1</td>\n",
       "      <td>pIC50</td>\n",
       "      <td>10.26</td>\n",
       "      <td>JAK2</td>\n",
       "    </tr>\n",
       "    <tr>\n",
       "      <th>3</th>\n",
       "      <td>C#CCN(c1ccc(C#N)cn1)C1CCN(c2ncnc3[nH]ccc23)C1</td>\n",
       "      <td>pIC50</td>\n",
       "      <td>10.26</td>\n",
       "      <td>JAK1</td>\n",
       "    </tr>\n",
       "    <tr>\n",
       "      <th>4</th>\n",
       "      <td>C#CCNCC1CCC(c2nnn3cnc4[nH]ccc4c23)CC1</td>\n",
       "      <td>pIC50</td>\n",
       "      <td>7.36</td>\n",
       "      <td>JAK2</td>\n",
       "    </tr>\n",
       "    <tr>\n",
       "      <th>...</th>\n",
       "      <td>...</td>\n",
       "      <td>...</td>\n",
       "      <td>...</td>\n",
       "      <td>...</td>\n",
       "    </tr>\n",
       "    <tr>\n",
       "      <th>10720</th>\n",
       "      <td>N#CCC1(n2cc(C(N)=O)c(Nc3ccnc(F)c3)n2)CCC(NCc2c...</td>\n",
       "      <td>pIC50</td>\n",
       "      <td>6.00</td>\n",
       "      <td>JAK2</td>\n",
       "    </tr>\n",
       "    <tr>\n",
       "      <th>10721</th>\n",
       "      <td>N#CCC1(n2cc(C(N)=O)c(Nc3ccnc(F)c3)n2)CCC(NCc2c...</td>\n",
       "      <td>pIC50</td>\n",
       "      <td>7.07</td>\n",
       "      <td>JAK1</td>\n",
       "    </tr>\n",
       "    <tr>\n",
       "      <th>10722</th>\n",
       "      <td>N#CC1CCCCC1n1cc(C(N)=O)c(Nc2ccnnc2)n1</td>\n",
       "      <td>pIC50</td>\n",
       "      <td>7.55</td>\n",
       "      <td>JAK2</td>\n",
       "    </tr>\n",
       "    <tr>\n",
       "      <th>10723</th>\n",
       "      <td>N#CC1CCCCC1n1cc(C(N)=O)c(Nc2ccnnc2)n1</td>\n",
       "      <td>pIC50</td>\n",
       "      <td>8.52</td>\n",
       "      <td>JAK1</td>\n",
       "    </tr>\n",
       "    <tr>\n",
       "      <th>10724</th>\n",
       "      <td>Nc1ncnc2c1c(I)nn2C1CCC(O)CC1</td>\n",
       "      <td>pKi</td>\n",
       "      <td>6.40</td>\n",
       "      <td>JAK2</td>\n",
       "    </tr>\n",
       "  </tbody>\n",
       "</table>\n",
       "<p>10725 rows × 4 columns</p>\n",
       "</div>"
      ],
      "text/plain": [
       "                                                  SMILES measurement_type  \\\n",
       "0      C#CCCOC(=O)N1CCC(n2cc(C(N)=O)c(Nc3ccc(F)cc3)n2...            pIC50   \n",
       "1      C#CCCOC(=O)N1CCC(n2cc(C(N)=O)c(Nc3ccc(F)cc3)n2...            pIC50   \n",
       "2          C#CCN(c1ccc(C#N)cn1)C1CCN(c2ncnc3[nH]ccc23)C1            pIC50   \n",
       "3          C#CCN(c1ccc(C#N)cn1)C1CCN(c2ncnc3[nH]ccc23)C1            pIC50   \n",
       "4                  C#CCNCC1CCC(c2nnn3cnc4[nH]ccc4c23)CC1            pIC50   \n",
       "...                                                  ...              ...   \n",
       "10720  N#CCC1(n2cc(C(N)=O)c(Nc3ccnc(F)c3)n2)CCC(NCc2c...            pIC50   \n",
       "10721  N#CCC1(n2cc(C(N)=O)c(Nc3ccnc(F)c3)n2)CCC(NCc2c...            pIC50   \n",
       "10722              N#CC1CCCCC1n1cc(C(N)=O)c(Nc2ccnnc2)n1            pIC50   \n",
       "10723              N#CC1CCCCC1n1cc(C(N)=O)c(Nc2ccnnc2)n1            pIC50   \n",
       "10724                       Nc1ncnc2c1c(I)nn2C1CCC(O)CC1              pKi   \n",
       "\n",
       "       measurement_value Kinase_name  \n",
       "0                   6.81        JAK2  \n",
       "1                   8.05        JAK1  \n",
       "2                  10.26        JAK2  \n",
       "3                  10.26        JAK1  \n",
       "4                   7.36        JAK2  \n",
       "...                  ...         ...  \n",
       "10720               6.00        JAK2  \n",
       "10721               7.07        JAK1  \n",
       "10722               7.55        JAK2  \n",
       "10723               8.52        JAK1  \n",
       "10724               6.40        JAK2  \n",
       "\n",
       "[10725 rows x 4 columns]"
      ]
     },
     "execution_count": 4,
     "metadata": {},
     "output_type": "execute_result"
    }
   ],
   "source": [
    "df = pd.read_csv('./kinase_JAK.csv')\n",
    "df"
   ]
  },
  {
   "cell_type": "markdown",
   "metadata": {},
   "source": [
    "# Data Exploration"
   ]
  },
  {
   "cell_type": "code",
   "execution_count": 6,
   "metadata": {},
   "outputs": [
    {
     "data": {
      "text/plain": [
       "<AxesSubplot:>"
      ]
     },
     "execution_count": 6,
     "metadata": {},
     "output_type": "execute_result"
    },
    {
     "data": {
      "image/png": "[encoded data removed]",
      "text/plain": [
       "<Figure size 432x288 with 1 Axes>"
      ]
     },
     "metadata": {
      "needs_background": "light"
     },
     "output_type": "display_data"
    }
   ],
   "source": [
    "df['measurement_type'].hist()"
   ]
  },
  {
   "cell_type": "markdown",
   "metadata": {},
   "source": [
    "We want to predict pKi, but it is a smaller subset of the total measurements."
   ]
  },
  {
   "cell_type": "code",
   "execution_count": 19,
   "metadata": {},
   "outputs": [
    {
     "data": {
      "text/plain": [
       "Text(0.5, 1.0, 'pCI50 vs pKi')"
      ]
     },
     "execution_count": 19,
     "metadata": {},
     "output_type": "execute_result"
    },
    {
     "data": {
      "image/png": "[encoded data removed]",
      "text/plain": [
       "<Figure size 432x288 with 2 Axes>"
      ]
     },
     "metadata": {
      "needs_background": "light"
     },
     "output_type": "display_data"
    }
   ],
   "source": [
    "fig, axes = plt.subplots(1, 2)\n",
    "df['measurement_value'].hist()\n",
    "df[df['measurement_type']=='pIC50']['measurement_value'].hist(ax=axes[0])\n",
    "df[df['measurement_type']=='pKi']['measurement_value'].hist(ax=axes[1])\n",
    "axes[0].set_title('combined')\n",
    "axes[1].set_title('pCI50 vs pKi')"
   ]
  },
  {
   "cell_type": "markdown",
   "metadata": {},
   "source": [
    "pCI50 and pKi have similar enough distributions that we can treat them similarly but not the same. As we don't have a lot of pKi measurement_values, we want to enhance our dataset with pC150 measurement_values. Hopefully, by treating the 'measurement_type' as a feature, the model can build an intuition between the two."
   ]
  },
  {
   "cell_type": "code",
   "execution_count": 20,
   "metadata": {},
   "outputs": [
    {
     "data": {
      "text/plain": [
       "<AxesSubplot:>"
      ]
     },
     "execution_count": 20,
     "metadata": {},
     "output_type": "execute_result"
    },
    {
     "data": {
      "image/png": "[encoded data removed]",
      "text/plain": [
       "<Figure size 432x288 with 1 Axes>"
      ]
     },
     "metadata": {
      "needs_background": "light"
     },
     "output_type": "display_data"
    }
   ],
   "source": [
    "df['Kinase_name'].hist()"
   ]
  },
  {
   "cell_type": "markdown",
   "metadata": {},
   "source": [
    "kPi to TYK2 kinase might be the hardest to predict given it has the lowest supporting data"
   ]
  },
  {
   "cell_type": "markdown",
   "metadata": {},
   "source": [
    "# Research"
   ]
  },
  {
   "cell_type": "markdown",
   "metadata": {},
   "source": [
    "Ki refers to inhibition constant for the binding of an inhibitor to an enzyme. The binding equilibrium depends on the machanism of inhibition: comnpetitive, uncompetitive, non-competitive, and mixed.\n",
    "CI50 refers to the concentration of inhibitor required to reduce activity to 50% of the uninhibited value. These values are highly depended on  mesaurement conditions and are less precise than Ki.\n",
    "https://www.sciencesnail.com/science/the-difference-between-ki-kd-ic50-and-ec50-values"
   ]
  },
  {
   "cell_type": "markdown",
   "metadata": {},
   "source": [
    "Pinheiro et al show that we can predict properties using SMILES which is advantagous due to its simplicity. Let's follow a similar approach"
   ]
  },
  {
   "cell_type": "markdown",
   "metadata": {},
   "source": [
    "# Preprocessing"
   ]
  },
  {
   "cell_type": "code",
   "execution_count": 21,
   "metadata": {},
   "outputs": [],
   "source": [
    "# Generate dummies for 'measurement_type' and 'Kinase_name'\n",
    "x = pd.concat([df, pd.get_dummies(df['Kinase_name'])], axis=1)\n",
    "x = pd.concat([x, pd.get_dummies(df[['measurement_type']])], axis=1)"
   ]
  },
  {
   "cell_type": "code",
   "execution_count": 22,
   "metadata": {},
   "outputs": [],
   "source": [
    "# Drop 'measurement_type' and  Kinase_name columns. \n",
    "# Also temporarily drop SMILES and set all data to same type.\n",
    "x = x.drop(['measurement_type', 'Kinase_name', 'SMILES'], axis=1).astype('float32')\n",
    "x['SMILES'] = df.SMILES\n",
    "y = x['measurement_value']\n",
    "x = x.drop(['measurement_value'], axis=1)"
   ]
  },
  {
   "cell_type": "markdown",
   "metadata": {},
   "source": [
    "Get Chem data"
   ]
  },
  {
   "cell_type": "code",
   "execution_count": 31,
   "metadata": {},
   "outputs": [
    {
     "name": "stdout",
     "output_type": "stream",
     "text": [
      "/home/george/.virtualenvs/kinase_inhibitors/lib/python3.8/site-packages/numpy/core/fromnumeric.py:86: RuntimeWarning: overflow encountered in reduce\n",
      "  return ufunc.reduce(obj, axis, dtype, out, **passkwargs)\n",
      "/home/george/.virtualenvs/kinase_inhibitors/lib/python3.8/site-packages/numpy/core/fromnumeric.py:86: RuntimeWarning: overflow encountered in reduce\n",
      "  return ufunc.reduce(obj, axis, dtype, out, **passkwargs)\n",
      "/home/george/.virtualenvs/kinase_inhibitors/lib/python3.8/site-packages/numpy/core/fromnumeric.py:86: RuntimeWarning: overflow encountered in reduce\n",
      "  return ufunc.reduce(obj, axis, dtype, out, **passkwargs)\n",
      "/home/george/.virtualenvs/kinase_inhibitors/lib/python3.8/site-packages/numpy/core/fromnumeric.py:86: RuntimeWarning: overflow encountered in reduce\n",
      "  return ufunc.reduce(obj, axis, dtype, out, **passkwargs)\n",
      "/home/george/.virtualenvs/kinase_inhibitors/lib/python3.8/site-packages/numpy/core/fromnumeric.py:86: RuntimeWarning: overflow encountered in reduce\n",
      "  return ufunc.reduce(obj, axis, dtype, out, **passkwargs)\n",
      "/home/george/.virtualenvs/kinase_inhibitors/lib/python3.8/site-packages/numpy/core/fromnumeric.py:86: RuntimeWarning: overflow encountered in reduce\n",
      "  return ufunc.reduce(obj, axis, dtype, out, **passkwargs)\n",
      "/home/george/.virtualenvs/kinase_inhibitors/lib/python3.8/site-packages/numpy/core/fromnumeric.py:86: RuntimeWarning: overflow encountered in reduce\n",
      "  return ufunc.reduce(obj, axis, dtype, out, **passkwargs)\n"
     ]
    }
   ],
   "source": [
    "chem_calc = Calculator(descriptors, ignore_3D=True)\n",
    "x['molecule'] = x['SMILES'].apply(Chem.MolFromSmiles)\n",
    "x_descriptors = chem_calc.pandas(x['molecule'])"
   ]
  },
  {
   "cell_type": "markdown",
   "metadata": {},
   "source": [
    "Select only numerical features with some sort of variance"
   ]
  },
  {
   "cell_type": "code",
   "execution_count": 33,
   "metadata": {},
   "outputs": [],
   "source": [
    "descriptors_numeric = x_descriptors.select_dtypes(include='number').astype('float32')\n",
    "descriptors_numeric = descriptors_numeric.loc[:, descriptors_numeric.var() > 0]"
   ]
  },
  {
   "cell_type": "markdown",
   "metadata": {},
   "source": [
    "Combine descriptor data with original data and the no longer needed columns"
   ]
  },
  {
   "cell_type": "code",
   "execution_count": 35,
   "metadata": {},
   "outputs": [],
   "source": [
    "features = pd.concat([x, descriptors_numeric], axis=1)\n",
    "features.drop(['SMILES', 'molecule'], inplace=True, axis=1)"
   ]
  },
  {
   "cell_type": "markdown",
   "metadata": {},
   "source": [
    "Save these feature columns for later"
   ]
  },
  {
   "cell_type": "code",
   "execution_count": 36,
   "metadata": {},
   "outputs": [],
   "source": [
    "model_columns = pd.DataFrame({}, columns=features.columns)\n",
    "model_columns.to_csv('model_columns.csv', index=False)"
   ]
  },
  {
   "cell_type": "markdown",
   "metadata": {},
   "source": [
    "Fit scaler to features and save for later inference"
   ]
  },
  {
   "cell_type": "code",
   "execution_count": 46,
   "metadata": {},
   "outputs": [],
   "source": [
    "scaler = MinMaxScaler()\n",
    "scaler.fit(features)\n",
    "pickle.dump(scaler, open('scaler.pkl', 'wb+'))"
   ]
  },
  {
   "cell_type": "markdown",
   "metadata": {},
   "source": [
    "Load our scaler and model columns then scale features"
   ]
  },
  {
   "cell_type": "code",
   "execution_count": 47,
   "metadata": {},
   "outputs": [],
   "source": [
    "scaler = pickle.load(open(\"scaler.pkl\", \"rb\"))\n",
    "mol_columns = pd.read_csv('model_columns.csv').columns\n",
    "features_scaled = pd.DataFrame(scaler.transform(features), columns=model_columns.columns)"
   ]
  },
  {
   "cell_type": "markdown",
   "metadata": {},
   "source": [
    "Make tensor from our features and targets"
   ]
  },
  {
   "cell_type": "code",
   "execution_count": 53,
   "metadata": {},
   "outputs": [],
   "source": [
    "features_tensor = torch.tensor(features_scaled.values)\n",
    "targets_tensor = torch.tensor(y.values)"
   ]
  },
  {
   "cell_type": "markdown",
   "metadata": {},
   "source": [
    "# Create Dataloader"
   ]
  },
  {
   "cell_type": "code",
   "execution_count": 60,
   "metadata": {},
   "outputs": [],
   "source": [
    "x_train, x_test, y_train, y_test = train_test_split(features_tensor, targets_tensor, test_size=0.2, random_state=1)"
   ]
  },
  {
   "cell_type": "markdown",
   "metadata": {},
   "source": [
    "Update dataset class"
   ]
  },
  {
   "cell_type": "code",
   "execution_count": 72,
   "metadata": {},
   "outputs": [],
   "source": [
    "class data_set(Dataset):\n",
    "    def __init__(self, data_):\n",
    "        self.data = data_\n",
    "  \n",
    "    def __len__(self):\n",
    "        return len(self.data)\n",
    "  \n",
    "    def __getitem__(self, index):\n",
    "        return self.data[index]"
   ]
  },
  {
   "cell_type": "code",
   "execution_count": 73,
   "metadata": {},
   "outputs": [],
   "source": [
    "training_data = torch.utils.data.TensorDataset(x_train, y_train) \n",
    "testing_data = torch.utils.data.TensorDataset(x_test, y_test)\n",
    "\n",
    "training_data = data_set(training_data)\n",
    "testing_data = data_set(testing_data)\n",
    "  \n",
    "training_dataloader = DataLoader(training_data)\n",
    "testing_dataloader = DataLoader(testing_data)"
   ]
  },
  {
   "cell_type": "markdown",
   "metadata": {},
   "source": [
    "# Model"
   ]
  },
  {
   "cell_type": "markdown",
   "metadata": {},
   "source": [
    "Use CPU or GPU"
   ]
  },
  {
   "cell_type": "code",
   "execution_count": 74,
   "metadata": {},
   "outputs": [
    {
     "name": "stdout",
     "output_type": "stream",
     "text": [
      "Using cpu device\n"
     ]
    }
   ],
   "source": [
    "device = \"cuda\" if torch.cuda.is_available() else \"cpu\"\n",
    "print(f\"Using {device} device\")"
   ]
  },
  {
   "cell_type": "markdown",
   "metadata": {},
   "source": [
    "Define model. Using Sequential model with Linear and ReLU as found in literature. Set nodes to the order of our input data dimensions."
   ]
  },
  {
   "cell_type": "code",
   "execution_count": 79,
   "metadata": {},
   "outputs": [
    {
     "name": "stdout",
     "output_type": "stream",
     "text": [
      "NeuralNetwork(\n",
      "  (flatten): Flatten(start_dim=1, end_dim=-1)\n",
      "  (linear_relu_stack): Sequential(\n",
      "    (0): Linear(in_features=1303, out_features=8580, bias=True)\n",
      "    (1): ReLU()\n",
      "    (2): Linear(in_features=8580, out_features=1303, bias=True)\n",
      "    (3): ReLU()\n",
      "    (4): Linear(in_features=1303, out_features=1, bias=True)\n",
      "  )\n",
      ")\n"
     ]
    }
   ],
   "source": [
    "class NeuralNetwork(nn.Module):\n",
    "    def __init__(self):\n",
    "        super(NeuralNetwork, self).__init__()\n",
    "        self.flatten = nn.Flatten()\n",
    "        self.linear_relu_stack = nn.Sequential(\n",
    "            nn.Linear(1303, 8580),\n",
    "            nn.ReLU(),\n",
    "            nn.Linear(8580, 1303),\n",
    "            nn.ReLU(),\n",
    "            nn.Linear(1303, 1),\n",
    "        )\n",
    "\n",
    "    def forward(self, x):\n",
    "        x = self.flatten(x)\n",
    "        x = x.float()\n",
    "        logits = self.linear_relu_stack(x)\n",
    "        return logits\n",
    "\n",
    "model = NeuralNetwork().to(device)\n",
    "print(model)"
   ]
  },
  {
   "cell_type": "markdown",
   "metadata": {},
   "source": [
    "Use 0.001 learning rate and Mean Squared Error for our loss function as seen in literature"
   ]
  },
  {
   "cell_type": "code",
   "execution_count": 80,
   "metadata": {},
   "outputs": [],
   "source": [
    "learning_rate = 0.001\n",
    "optimizer = torch.optim.SGD(model.parameters(), lr=learning_rate)\n",
    "loss_fn = torch.nn.MSELoss() "
   ]
  },
  {
   "cell_type": "code",
   "execution_count": 87,
   "metadata": {},
   "outputs": [],
   "source": [
    "def train(dataloader, model, loss_fn, optimizer):\n",
    "    size = len(dataloader.dataset)\n",
    "    model.train()\n",
    "    for batch, (X, y) in enumerate(dataloader):\n",
    "        X, y = X.to(device), y.to(device)\n",
    "        X = X.float()\n",
    "        y = y.float()\n",
    "\n",
    "        # Compute prediction error\n",
    "        pred = model(X)\n",
    "        loss = loss_fn(pred, y)\n",
    "\n",
    "        # Backprop\n",
    "        optimizer.zero_grad()\n",
    "        loss.backward()\n",
    "        optimizer.step()\n",
    "\n",
    "        if batch % 1000 == 0:\n",
    "            loss = loss.item()\n",
    "            current_item = batch\n",
    "            print(f'Loss: {loss:>5f}  currently at: {current_item:>5d}/{size:>5d}')"
   ]
  },
  {
   "cell_type": "code",
   "execution_count": 88,
   "metadata": {},
   "outputs": [],
   "source": [
    "def test(dataloader, model, loss_fn):\n",
    "    size = len(dataloader.dataset)\n",
    "    num_batches = len(dataloader)\n",
    "    model.eval()\n",
    "    test_loss, correct = 0, 0\n",
    "    with torch.no_grad():\n",
    "        for X, y in dataloader:\n",
    "            X, y = X.to(device), y.to(device)\n",
    "            pred = model(X)\n",
    "            test_loss += loss_fn(pred, y).item()\n",
    "    test_loss /= num_batches\n",
    "    print(f\"Test Error Avg loss: {test_loss:>5f}\")"
   ]
  },
  {
   "cell_type": "code",
   "execution_count": 89,
   "metadata": {},
   "outputs": [],
   "source": [
    "epochs = 2"
   ]
  },
  {
   "cell_type": "code",
   "execution_count": 90,
   "metadata": {},
   "outputs": [
    {
     "name": "stdout",
     "output_type": "stream",
     "text": [
      "Epoch: 0\n",
      "Training 0/2...\n",
      "Loss: 0.696362  currently at:     0/ 8580\n",
      "Loss: 0.000787  currently at:  1000/ 8580\n",
      "Loss: 3.702524  currently at:  2000/ 8580\n",
      "Loss: 3.403656  currently at:  3000/ 8580\n",
      "Loss: 1.051894  currently at:  4000/ 8580\n",
      "Loss: 0.526986  currently at:  5000/ 8580\n",
      "Loss: 0.806022  currently at:  6000/ 8580\n",
      "Loss: 0.025076  currently at:  7000/ 8580\n",
      "Loss: 0.007009  currently at:  8000/ 8580\n",
      "Testing 0/2...\n",
      "Test Error Avg loss: 0.907933\n",
      "Epoch: 1\n",
      "Training 1/2...\n",
      "Loss: 0.770395  currently at:     0/ 8580\n",
      "Loss: 0.000495  currently at:  1000/ 8580\n",
      "Loss: 4.212951  currently at:  2000/ 8580\n",
      "Loss: 1.961249  currently at:  3000/ 8580\n",
      "Loss: 0.655238  currently at:  4000/ 8580\n",
      "Loss: 0.733659  currently at:  5000/ 8580\n",
      "Loss: 0.867867  currently at:  6000/ 8580\n",
      "Loss: 0.034590  currently at:  7000/ 8580\n",
      "Loss: 0.003209  currently at:  8000/ 8580\n",
      "Testing 1/2...\n",
      "Test Error Avg loss: 0.838875\n",
      "Model is ready for evaluation\n"
     ]
    }
   ],
   "source": [
    "for e in range(epochs):\n",
    "    print(f\"Epoch: {e+1}\")\n",
    "    print(f'Training {e+1}/{epochs}...')\n",
    "    train(training_dataloader, model, loss_fn, optimizer)\n",
    "    print(f'Testing {e+1}/{epochs}...')\n",
    "    test(testing_dataloader, model, loss_fn)\n",
    "print(\"Model is ready for evaluation\")"
   ]
  },
  {
   "cell_type": "code",
   "execution_count": null,
   "metadata": {},
   "outputs": [],
   "source": []
  },
  {
   "cell_type": "markdown",
   "metadata": {},
   "source": [
    "[back-to-top](#contents)"
   ]
  },
  {
   "cell_type": "markdown",
   "metadata": {},
   "source": []
  }
 ],
 "metadata": {
  "interpreter": {
   "hash": "7a6b2820e510fa4a2f3a99f7906b8b0df4224b48b28e16b0d9421e32b66a73d1"
  },
  "kernelspec": {
   "display_name": "Python 3.8.10 ('kinase_inhibitors')",
   "language": "python",
   "name": "python3"
  },
  "language_info": {
   "codemirror_mode": {
    "name": "ipython",
    "version": 3
   },
   "file_extension": ".py",
   "mimetype": "text/x-python",
   "name": "python",
   "nbconvert_exporter": "python",
   "pygments_lexer": "ipython3",
   "version": "3.8.10"
  },
  "orig_nbformat": 4
 },
 "nbformat": 4,
 "nbformat_minor": 2
}
