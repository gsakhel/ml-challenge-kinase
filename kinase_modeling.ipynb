{
 "cells": [
  {
   "cell_type": "markdown",
   "metadata": {},
   "source": [
    "# Contents\n",
    "* [Objective](#objective)\n",
    "* [Setup](#setup)\n",
    "* [Data](#data)\n",
    "* [Data Exploration](#data-exploration)\n",
    "* [Research](#research)\n",
    "* [Preprocessing](#preprocessing)\n",
    "* [Model](#model)\n",
    "* [Prediction](#prediction)\n",
    "* [Run with Flask](#run-with-flask)"
   ]
  },
  {
   "cell_type": "markdown",
   "metadata": {},
   "source": [
    "# Objective\n",
    "The goal is to develop a model that can predict the pKi of a given compound against JAK1, JAK2, JAK3 and TYK2."
   ]
  },
  {
   "cell_type": "markdown",
   "metadata": {},
   "source": [
    "# Setup"
   ]
  },
  {
   "cell_type": "code",
   "execution_count": 1,
   "metadata": {},
   "outputs": [],
   "source": [
    "import pandas as pd\n",
    "import numpy as np\n",
    "import matplotlib.pyplot as plt\n",
    "from mordred import Calculator, descriptors\n",
    "from rdkit import Chem\n",
    "from sklearn.preprocessing import MinMaxScaler\n",
    "import pickle\n",
    "import torch\n",
    "from sklearn.model_selection import train_test_split\n",
    "\n",
    "from torch.utils.data import Dataset\n",
    "from torch.utils.data import DataLoader\n",
    "from torch import nn\n",
    "\n",
    "import warnings\n",
    "warnings.filterwarnings('ignore')"
   ]
  },
  {
   "cell_type": "markdown",
   "metadata": {},
   "source": [
    "# Data"
   ]
  },
  {
   "cell_type": "code",
   "execution_count": 2,
   "metadata": {},
   "outputs": [
    {
     "data": {
      "text/html": [
       "<div>\n",
       "<style scoped>\n",
       "    .dataframe tbody tr th:only-of-type {\n",
       "        vertical-align: middle;\n",
       "    }\n",
       "\n",
       "    .dataframe tbody tr th {\n",
       "        vertical-align: top;\n",
       "    }\n",
       "\n",
       "    .dataframe thead th {\n",
       "        text-align: right;\n",
       "    }\n",
       "</style>\n",
       "<table border=\"1\" class=\"dataframe\">\n",
       "  <thead>\n",
       "    <tr style=\"text-align: right;\">\n",
       "      <th></th>\n",
       "      <th>SMILES</th>\n",
       "      <th>measurement_type</th>\n",
       "      <th>measurement_value</th>\n",
       "      <th>Kinase_name</th>\n",
       "    </tr>\n",
       "  </thead>\n",
       "  <tbody>\n",
       "    <tr>\n",
       "      <th>0</th>\n",
       "      <td>C#CCCOC(=O)N1CCC(n2cc(C(N)=O)c(Nc3ccc(F)cc3)n2...</td>\n",
       "      <td>pIC50</td>\n",
       "      <td>6.81</td>\n",
       "      <td>JAK2</td>\n",
       "    </tr>\n",
       "    <tr>\n",
       "      <th>1</th>\n",
       "      <td>C#CCCOC(=O)N1CCC(n2cc(C(N)=O)c(Nc3ccc(F)cc3)n2...</td>\n",
       "      <td>pIC50</td>\n",
       "      <td>8.05</td>\n",
       "      <td>JAK1</td>\n",
       "    </tr>\n",
       "    <tr>\n",
       "      <th>2</th>\n",
       "      <td>C#CCN(c1ccc(C#N)cn1)C1CCN(c2ncnc3[nH]ccc23)C1</td>\n",
       "      <td>pIC50</td>\n",
       "      <td>10.26</td>\n",
       "      <td>JAK2</td>\n",
       "    </tr>\n",
       "    <tr>\n",
       "      <th>3</th>\n",
       "      <td>C#CCN(c1ccc(C#N)cn1)C1CCN(c2ncnc3[nH]ccc23)C1</td>\n",
       "      <td>pIC50</td>\n",
       "      <td>10.26</td>\n",
       "      <td>JAK1</td>\n",
       "    </tr>\n",
       "    <tr>\n",
       "      <th>4</th>\n",
       "      <td>C#CCNCC1CCC(c2nnn3cnc4[nH]ccc4c23)CC1</td>\n",
       "      <td>pIC50</td>\n",
       "      <td>7.36</td>\n",
       "      <td>JAK2</td>\n",
       "    </tr>\n",
       "    <tr>\n",
       "      <th>...</th>\n",
       "      <td>...</td>\n",
       "      <td>...</td>\n",
       "      <td>...</td>\n",
       "      <td>...</td>\n",
       "    </tr>\n",
       "    <tr>\n",
       "      <th>10720</th>\n",
       "      <td>N#CCC1(n2cc(C(N)=O)c(Nc3ccnc(F)c3)n2)CCC(NCc2c...</td>\n",
       "      <td>pIC50</td>\n",
       "      <td>6.00</td>\n",
       "      <td>JAK2</td>\n",
       "    </tr>\n",
       "    <tr>\n",
       "      <th>10721</th>\n",
       "      <td>N#CCC1(n2cc(C(N)=O)c(Nc3ccnc(F)c3)n2)CCC(NCc2c...</td>\n",
       "      <td>pIC50</td>\n",
       "      <td>7.07</td>\n",
       "      <td>JAK1</td>\n",
       "    </tr>\n",
       "    <tr>\n",
       "      <th>10722</th>\n",
       "      <td>N#CC1CCCCC1n1cc(C(N)=O)c(Nc2ccnnc2)n1</td>\n",
       "      <td>pIC50</td>\n",
       "      <td>7.55</td>\n",
       "      <td>JAK2</td>\n",
       "    </tr>\n",
       "    <tr>\n",
       "      <th>10723</th>\n",
       "      <td>N#CC1CCCCC1n1cc(C(N)=O)c(Nc2ccnnc2)n1</td>\n",
       "      <td>pIC50</td>\n",
       "      <td>8.52</td>\n",
       "      <td>JAK1</td>\n",
       "    </tr>\n",
       "    <tr>\n",
       "      <th>10724</th>\n",
       "      <td>Nc1ncnc2c1c(I)nn2C1CCC(O)CC1</td>\n",
       "      <td>pKi</td>\n",
       "      <td>6.40</td>\n",
       "      <td>JAK2</td>\n",
       "    </tr>\n",
       "  </tbody>\n",
       "</table>\n",
       "<p>10725 rows × 4 columns</p>\n",
       "</div>"
      ],
      "text/plain": [
       "                                                  SMILES measurement_type  \\\n",
       "0      C#CCCOC(=O)N1CCC(n2cc(C(N)=O)c(Nc3ccc(F)cc3)n2...            pIC50   \n",
       "1      C#CCCOC(=O)N1CCC(n2cc(C(N)=O)c(Nc3ccc(F)cc3)n2...            pIC50   \n",
       "2          C#CCN(c1ccc(C#N)cn1)C1CCN(c2ncnc3[nH]ccc23)C1            pIC50   \n",
       "3          C#CCN(c1ccc(C#N)cn1)C1CCN(c2ncnc3[nH]ccc23)C1            pIC50   \n",
       "4                  C#CCNCC1CCC(c2nnn3cnc4[nH]ccc4c23)CC1            pIC50   \n",
       "...                                                  ...              ...   \n",
       "10720  N#CCC1(n2cc(C(N)=O)c(Nc3ccnc(F)c3)n2)CCC(NCc2c...            pIC50   \n",
       "10721  N#CCC1(n2cc(C(N)=O)c(Nc3ccnc(F)c3)n2)CCC(NCc2c...            pIC50   \n",
       "10722              N#CC1CCCCC1n1cc(C(N)=O)c(Nc2ccnnc2)n1            pIC50   \n",
       "10723              N#CC1CCCCC1n1cc(C(N)=O)c(Nc2ccnnc2)n1            pIC50   \n",
       "10724                       Nc1ncnc2c1c(I)nn2C1CCC(O)CC1              pKi   \n",
       "\n",
       "       measurement_value Kinase_name  \n",
       "0                   6.81        JAK2  \n",
       "1                   8.05        JAK1  \n",
       "2                  10.26        JAK2  \n",
       "3                  10.26        JAK1  \n",
       "4                   7.36        JAK2  \n",
       "...                  ...         ...  \n",
       "10720               6.00        JAK2  \n",
       "10721               7.07        JAK1  \n",
       "10722               7.55        JAK2  \n",
       "10723               8.52        JAK1  \n",
       "10724               6.40        JAK2  \n",
       "\n",
       "[10725 rows x 4 columns]"
      ]
     },
     "execution_count": 2,
     "metadata": {},
     "output_type": "execute_result"
    }
   ],
   "source": [
    "df = pd.read_csv('./kinase_JAK.csv')\n",
    "df"
   ]
  },
  {
   "cell_type": "markdown",
   "metadata": {},
   "source": [
    "# Data Exploration"
   ]
  },
  {
   "cell_type": "code",
   "execution_count": 3,
   "metadata": {},
   "outputs": [
    {
     "data": {
      "text/plain": [
       "<AxesSubplot:>"
      ]
     },
     "execution_count": 3,
     "metadata": {},
     "output_type": "execute_result"
    },
    {
     "data": {
      "image/png": "[encoded data removed]",
      "text/plain": [
       "<Figure size 432x288 with 1 Axes>"
      ]
     },
     "metadata": {
      "needs_background": "light"
     },
     "output_type": "display_data"
    }
   ],
   "source": [
    "df['measurement_type'].hist()"
   ]
  },
  {
   "cell_type": "markdown",
   "metadata": {},
   "source": [
    "We want to predict pKi, but it is a smaller subset of the total measurements."
   ]
  },
  {
   "cell_type": "code",
   "execution_count": 4,
   "metadata": {},
   "outputs": [
    {
     "data": {
      "text/plain": [
       "Text(0.5, 1.0, 'pCI50 vs pKi')"
      ]
     },
     "execution_count": 4,
     "metadata": {},
     "output_type": "execute_result"
    },
    {
     "data": {
      "image/png": "[encoded data removed]",
      "text/plain": [
       "<Figure size 432x288 with 2 Axes>"
      ]
     },
     "metadata": {
      "needs_background": "light"
     },
     "output_type": "display_data"
    }
   ],
   "source": [
    "fig, axes = plt.subplots(1, 2)\n",
    "df['measurement_value'].hist()\n",
    "df[df['measurement_type']=='pIC50']['measurement_value'].hist(ax=axes[0])\n",
    "df[df['measurement_type']=='pKi']['measurement_value'].hist(ax=axes[1])\n",
    "axes[0].set_title('combined')\n",
    "axes[1].set_title('pCI50 vs pKi')"
   ]
  },
  {
   "cell_type": "markdown",
   "metadata": {},
   "source": [
    "pCI50 and pKi have similar enough distributions that we can treat them similarly but not the same. As we don't have a lot of pKi measurement_values, we want to enhance our dataset with pIC50 measurement_values. Hopefully, by treating the 'measurement_type' as a feature, the model can build an intuition between the two."
   ]
  },
  {
   "cell_type": "code",
   "execution_count": 5,
   "metadata": {},
   "outputs": [
    {
     "data": {
      "text/plain": [
       "<AxesSubplot:>"
      ]
     },
     "execution_count": 5,
     "metadata": {},
     "output_type": "execute_result"
    },
    {
     "data": {
      "image/png": "[encoded data removed]",
      "text/plain": [
       "<Figure size 432x288 with 1 Axes>"
      ]
     },
     "metadata": {
      "needs_background": "light"
     },
     "output_type": "display_data"
    }
   ],
   "source": [
    "df['Kinase_name'].hist()"
   ]
  },
  {
   "cell_type": "markdown",
   "metadata": {},
   "source": [
    "pKi against TYK2 kinase might be the hardest to predict given it has the lowest supporting data"
   ]
  },
  {
   "cell_type": "markdown",
   "metadata": {},
   "source": [
    "# Research"
   ]
  },
  {
   "cell_type": "markdown",
   "metadata": {},
   "source": [
    "Ki refers to inhibition constant for the binding of an inhibitor to an enzyme. The binding equilibrium depends on the mechanism of inhibition: competitive, uncompetitive, non-competitive, and mixed.\n",
    "IC50 refers to the concentration of inhibitor required to reduce activity to 50% of the uninhibited value. These values are highly dependent on measurement conditions and are less precise than Ki.\n",
    "\n",
    "https://www.sciencesnail.com/science/the-difference-between-ki-kd-ic50-and-ec50-values"
   ]
  },
  {
   "cell_type": "markdown",
   "metadata": {},
   "source": [
    "Pinheiro et al show that we can predict molecular properties using SMILES which is advantagous due to its simplicity. Let's follow a similar approach.\n",
    "\n",
    "https://www.researchgate.net/profile/Juarez-Da-Silva-2/publication/346029441_Machine_Learning_Prediction_of_Nine_Molecular_Properties_Based_on_the_SMILES_Representation_of_the_QM9_Quantum-Chemistry_Dataset/links/61ead5eb9a753545e2e847c5/Machine-Learning-Prediction-of-Nine-Molecular-Properties-Based-on-the-SMILES-Representation-of-the-QM9-Quantum-Chemistry-Dataset.pdf"
   ]
  },
  {
   "cell_type": "markdown",
   "metadata": {},
   "source": [
    "# Preprocessing"
   ]
  },
  {
   "cell_type": "code",
   "execution_count": 6,
   "metadata": {},
   "outputs": [],
   "source": [
    "# Generate dummies for 'measurement_type' and 'Kinase_name'\n",
    "x = pd.concat([df, pd.get_dummies(df['Kinase_name'])], axis=1)\n",
    "x = pd.concat([x, pd.get_dummies(df[['measurement_type']])], axis=1)"
   ]
  },
  {
   "cell_type": "code",
   "execution_count": 7,
   "metadata": {},
   "outputs": [],
   "source": [
    "# Drop 'measurement_type' and  Kinase_name columns. \n",
    "# Also temporarily drop SMILES and set all data to same type.\n",
    "x = x.drop(['measurement_type', 'Kinase_name', 'SMILES'], axis=1).astype('float32')\n",
    "x['SMILES'] = df.SMILES\n",
    "y = x['measurement_value']\n",
    "x = x.drop(['measurement_value'], axis=1)\n",
    "y = np.array(y).reshape(y.shape[0], 1)"
   ]
  },
  {
   "cell_type": "markdown",
   "metadata": {},
   "source": [
    "Get Chem data"
   ]
  },
  {
   "cell_type": "code",
   "execution_count": 8,
   "metadata": {},
   "outputs": [],
   "source": [
    "chem_calc = Calculator(descriptors, ignore_3D=True)\n",
    "x['molecule'] = x['SMILES'].apply(Chem.MolFromSmiles)\n",
    "x_descriptors = chem_calc.pandas(x['molecule'])"
   ]
  },
  {
   "cell_type": "markdown",
   "metadata": {},
   "source": [
    "Select only numerical features with some sort of variance"
   ]
  },
  {
   "cell_type": "code",
   "execution_count": 9,
   "metadata": {},
   "outputs": [],
   "source": [
    "descriptors_numeric = x_descriptors.select_dtypes(include='number').astype('float32')\n",
    "descriptors_numeric = descriptors_numeric.loc[:, descriptors_numeric.var() > 0]"
   ]
  },
  {
   "cell_type": "markdown",
   "metadata": {},
   "source": [
    "Combine descriptor data with original data and drop the no longer needed columns"
   ]
  },
  {
   "cell_type": "code",
   "execution_count": 10,
   "metadata": {},
   "outputs": [],
   "source": [
    "features = pd.concat([x, descriptors_numeric], axis=1)\n",
    "features.drop(['SMILES', 'molecule'], inplace=True, axis=1)"
   ]
  },
  {
   "cell_type": "markdown",
   "metadata": {},
   "source": [
    "Save these feature columns for later"
   ]
  },
  {
   "cell_type": "code",
   "execution_count": 11,
   "metadata": {},
   "outputs": [],
   "source": [
    "model_columns = pd.DataFrame({}, columns=features.columns)\n",
    "model_columns.to_csv('model_assets/model_columns.csv', index=False)"
   ]
  },
  {
   "cell_type": "markdown",
   "metadata": {},
   "source": [
    "Fit scaler to features and save for later inference"
   ]
  },
  {
   "cell_type": "code",
   "execution_count": 12,
   "metadata": {},
   "outputs": [],
   "source": [
    "scaler = MinMaxScaler()\n",
    "scaler.fit(features)\n",
    "pickle.dump(scaler, open('model_assets/scaler.pkl', 'wb+'))"
   ]
  },
  {
   "cell_type": "markdown",
   "metadata": {},
   "source": [
    "Load our scaler and model columns then scale features"
   ]
  },
  {
   "cell_type": "code",
   "execution_count": 13,
   "metadata": {},
   "outputs": [],
   "source": [
    "scaler = pickle.load(open(\"model_assets/scaler.pkl\", \"rb\"))\n",
    "mol_columns = pd.read_csv('model_assets/model_columns.csv').columns\n",
    "features_scaled = pd.DataFrame(scaler.transform(features), columns=model_columns.columns)"
   ]
  },
  {
   "cell_type": "markdown",
   "metadata": {},
   "source": [
    "Make tensors from our features and targets"
   ]
  },
  {
   "cell_type": "code",
   "execution_count": 14,
   "metadata": {},
   "outputs": [],
   "source": [
    "features_tensor = torch.tensor(features_scaled.values)\n",
    "targets_tensor = torch.tensor(y)"
   ]
  },
  {
   "cell_type": "markdown",
   "metadata": {},
   "source": [
    "# Create Dataloader"
   ]
  },
  {
   "cell_type": "code",
   "execution_count": 15,
   "metadata": {},
   "outputs": [],
   "source": [
    "x_train, x_test, y_train, y_test = train_test_split(features_tensor, targets_tensor, test_size=0.2, random_state=1)"
   ]
  },
  {
   "cell_type": "markdown",
   "metadata": {},
   "source": [
    "Update dataset class"
   ]
  },
  {
   "cell_type": "code",
   "execution_count": 16,
   "metadata": {},
   "outputs": [],
   "source": [
    "class data_set(Dataset):\n",
    "    def __init__(self, data_):\n",
    "        self.data = data_\n",
    "  \n",
    "    def __len__(self):\n",
    "        return len(self.data)\n",
    "  \n",
    "    def __getitem__(self, index):\n",
    "        return self.data[index]"
   ]
  },
  {
   "cell_type": "code",
   "execution_count": 18,
   "metadata": {},
   "outputs": [],
   "source": [
    "training_data = torch.utils.data.TensorDataset(x_train, y_train) \n",
    "testing_data = torch.utils.data.TensorDataset(x_test, y_test)\n",
    "\n",
    "training_data = data_set(training_data)\n",
    "testing_data = data_set(testing_data)\n",
    "  \n",
    "training_dataloader = DataLoader(training_data)\n",
    "testing_dataloader = DataLoader(testing_data)"
   ]
  },
  {
   "cell_type": "markdown",
   "metadata": {},
   "source": [
    "# Model"
   ]
  },
  {
   "cell_type": "markdown",
   "metadata": {},
   "source": [
    "Use CPU or GPU"
   ]
  },
  {
   "cell_type": "code",
   "execution_count": 19,
   "metadata": {},
   "outputs": [
    {
     "name": "stdout",
     "output_type": "stream",
     "text": [
      "Using cpu device\n"
     ]
    }
   ],
   "source": [
    "device = \"cuda\" if torch.cuda.is_available() else \"cpu\"\n",
    "print(f\"Using {device} device\")"
   ]
  },
  {
   "cell_type": "markdown",
   "metadata": {},
   "source": [
    "Define model. Using a Sequential model with Linear and ReLU as found in literature."
   ]
  },
  {
   "cell_type": "code",
   "execution_count": 20,
   "metadata": {},
   "outputs": [
    {
     "name": "stdout",
     "output_type": "stream",
     "text": [
      "NeuralNetwork(\n",
      "  (flatten): Flatten(start_dim=1, end_dim=-1)\n",
      "  (linear_relu_stack): Sequential(\n",
      "    (0): Linear(in_features=1303, out_features=8580, bias=True)\n",
      "    (1): ReLU()\n",
      "    (2): Linear(in_features=8580, out_features=1303, bias=True)\n",
      "    (3): ReLU()\n",
      "    (4): Linear(in_features=1303, out_features=1, bias=True)\n",
      "  )\n",
      ")\n"
     ]
    }
   ],
   "source": [
    "class NeuralNetwork(nn.Module):\n",
    "    def __init__(self):\n",
    "        super(NeuralNetwork, self).__init__()\n",
    "        self.flatten = nn.Flatten()\n",
    "        self.linear_relu_stack = nn.Sequential(\n",
    "            nn.Linear(1303, 8580),\n",
    "            nn.ReLU(),\n",
    "            nn.Linear(8580, 1303),\n",
    "            nn.ReLU(),\n",
    "            nn.Linear(1303, 1),\n",
    "        )\n",
    "\n",
    "    def forward(self, x):\n",
    "        x = self.flatten(x)\n",
    "        x = x.float()\n",
    "        logits = self.linear_relu_stack(x)\n",
    "        return logits\n",
    "\n",
    "model = NeuralNetwork().to(device)\n",
    "print(model)"
   ]
  },
  {
   "cell_type": "markdown",
   "metadata": {},
   "source": [
    "Use 0.001 learning rate and Mean Squared Error for our loss function as seen in literature"
   ]
  },
  {
   "cell_type": "code",
   "execution_count": 21,
   "metadata": {},
   "outputs": [],
   "source": [
    "learning_rate = 0.001\n",
    "optimizer = torch.optim.SGD(model.parameters(), lr=learning_rate)\n",
    "loss_fn = torch.nn.MSELoss() "
   ]
  },
  {
   "cell_type": "code",
   "execution_count": 22,
   "metadata": {},
   "outputs": [],
   "source": [
    "def train(dataloader, model, loss_fn, optimizer):\n",
    "    size = len(dataloader.dataset)\n",
    "    model.train()\n",
    "    for batch, (X, y) in enumerate(dataloader):\n",
    "        X, y = X.to(device), y.to(device)\n",
    "        X = X.float()\n",
    "        y = y.float()\n",
    "\n",
    "        # Compute prediction error\n",
    "        pred = model(X)\n",
    "        loss = loss_fn(pred, y)\n",
    "\n",
    "        # Backprop\n",
    "        optimizer.zero_grad()\n",
    "        loss.backward()\n",
    "        optimizer.step()\n",
    "\n",
    "        if batch % 1000 == 0:\n",
    "            loss = loss.item()\n",
    "            current_item = batch\n",
    "            print(f'Loss: {loss:>5f}  currently at: {current_item:>5d}/{size:>5d}')"
   ]
  },
  {
   "cell_type": "code",
   "execution_count": 23,
   "metadata": {},
   "outputs": [],
   "source": [
    "def test(dataloader, model, loss_fn):\n",
    "    size = len(dataloader.dataset)\n",
    "    num_batches = len(dataloader)\n",
    "    model.eval()\n",
    "    test_loss, correct = 0, 0\n",
    "    with torch.no_grad():\n",
    "        for X, y in dataloader:\n",
    "            X, y = X.to(device), y.to(device)\n",
    "            pred = model(X)\n",
    "            test_loss += loss_fn(pred, y).item()\n",
    "    test_loss /= num_batches\n",
    "    print(f\"Test Error Avg loss: {test_loss:>5f}\")"
   ]
  },
  {
   "cell_type": "code",
   "execution_count": 24,
   "metadata": {},
   "outputs": [],
   "source": [
    "epochs = 5"
   ]
  },
  {
   "cell_type": "code",
   "execution_count": 25,
   "metadata": {},
   "outputs": [
    {
     "name": "stdout",
     "output_type": "stream",
     "text": [
      "Epoch: 1\n",
      "Training 1/5...\n",
      "Loss: 68.300659  currently at:     0/ 8580\n",
      "Loss: 0.000040  currently at:  1000/ 8580\n",
      "Loss: 3.300686  currently at:  2000/ 8580\n",
      "Loss: 4.208172  currently at:  3000/ 8580\n",
      "Loss: 1.111478  currently at:  4000/ 8580\n",
      "Loss: 0.505620  currently at:  5000/ 8580\n",
      "Loss: 0.864030  currently at:  6000/ 8580\n",
      "Loss: 0.012587  currently at:  7000/ 8580\n",
      "Loss: 0.016317  currently at:  8000/ 8580\n",
      "Testing 1/5...\n",
      "Test Error Avg loss: 0.946322\n",
      "Epoch: 2\n",
      "Training 2/5...\n",
      "Loss: 0.850176  currently at:     0/ 8580\n",
      "Loss: 0.007352  currently at:  1000/ 8580\n",
      "Loss: 4.027021  currently at:  2000/ 8580\n",
      "Loss: 2.096168  currently at:  3000/ 8580\n",
      "Loss: 0.691648  currently at:  4000/ 8580\n",
      "Loss: 0.696616  currently at:  5000/ 8580\n",
      "Loss: 0.927548  currently at:  6000/ 8580\n",
      "Loss: 0.015455  currently at:  7000/ 8580\n",
      "Loss: 0.005520  currently at:  8000/ 8580\n",
      "Testing 2/5...\n",
      "Test Error Avg loss: 0.870409\n",
      "Epoch: 3\n",
      "Training 3/5...\n",
      "Loss: 0.709798  currently at:     0/ 8580\n",
      "Loss: 0.003071  currently at:  1000/ 8580\n",
      "Loss: 4.464993  currently at:  2000/ 8580\n",
      "Loss: 1.482682  currently at:  3000/ 8580\n",
      "Loss: 0.513804  currently at:  4000/ 8580\n",
      "Loss: 0.833171  currently at:  5000/ 8580\n",
      "Loss: 0.871352  currently at:  6000/ 8580\n",
      "Loss: 0.011329  currently at:  7000/ 8580\n",
      "Loss: 0.001345  currently at:  8000/ 8580\n",
      "Testing 3/5...\n",
      "Test Error Avg loss: 0.817739\n",
      "Epoch: 4\n",
      "Training 4/5...\n",
      "Loss: 0.648261  currently at:     0/ 8580\n",
      "Loss: 0.050257  currently at:  1000/ 8580\n",
      "Loss: 4.743584  currently at:  2000/ 8580\n",
      "Loss: 1.119595  currently at:  3000/ 8580\n",
      "Loss: 0.394837  currently at:  4000/ 8580\n",
      "Loss: 0.917425  currently at:  5000/ 8580\n",
      "Loss: 0.779824  currently at:  6000/ 8580\n",
      "Loss: 0.003613  currently at:  7000/ 8580\n",
      "Loss: 0.000069  currently at:  8000/ 8580\n",
      "Testing 4/5...\n",
      "Test Error Avg loss: 0.754080\n",
      "Epoch: 5\n",
      "Training 5/5...\n",
      "Loss: 0.612906  currently at:     0/ 8580\n",
      "Loss: 0.121171  currently at:  1000/ 8580\n",
      "Loss: 4.848569  currently at:  2000/ 8580\n",
      "Loss: 0.945908  currently at:  3000/ 8580\n",
      "Loss: 0.269176  currently at:  4000/ 8580\n",
      "Loss: 0.938757  currently at:  5000/ 8580\n",
      "Loss: 0.635116  currently at:  6000/ 8580\n",
      "Loss: 0.003904  currently at:  7000/ 8580\n",
      "Loss: 0.000159  currently at:  8000/ 8580\n",
      "Testing 5/5...\n",
      "Test Error Avg loss: 0.699276\n",
      "Model is ready for predicting\n"
     ]
    }
   ],
   "source": [
    "for e in range(epochs):\n",
    "    print(f\"Epoch: {e+1}\")\n",
    "    print(f'Training {e+1}/{epochs}...')\n",
    "    train(training_dataloader, model, loss_fn, optimizer)\n",
    "    print(f'Testing {e+1}/{epochs}...')\n",
    "    test(testing_dataloader, model, loss_fn)\n",
    "print(\"Model is ready for predicting\")"
   ]
  },
  {
   "cell_type": "markdown",
   "metadata": {},
   "source": [
    "The Mean Squared Error with 5 epoch is 0.699276 while 3 epochs was 0.83887, so training with even higher epochs should lead to a better model"
   ]
  },
  {
   "cell_type": "code",
   "execution_count": 29,
   "metadata": {},
   "outputs": [],
   "source": [
    "model_scripted = torch.jit.script(model)\n",
    "model_scripted.save('model_assets/model_scripted.pt')"
   ]
  },
  {
   "cell_type": "markdown",
   "metadata": {},
   "source": [
    "# Prediction"
   ]
  },
  {
   "cell_type": "code",
   "execution_count": 30,
   "metadata": {},
   "outputs": [
    {
     "data": {
      "text/plain": [
       "NeuralNetwork(\n",
       "  (flatten): Flatten(start_dim=1, end_dim=-1)\n",
       "  (linear_relu_stack): Sequential(\n",
       "    (0): Linear(in_features=1303, out_features=8580, bias=True)\n",
       "    (1): ReLU()\n",
       "    (2): Linear(in_features=8580, out_features=1303, bias=True)\n",
       "    (3): ReLU()\n",
       "    (4): Linear(in_features=1303, out_features=1, bias=True)\n",
       "  )\n",
       ")"
      ]
     },
     "execution_count": 30,
     "metadata": {},
     "output_type": "execute_result"
    }
   ],
   "source": [
    "model.eval()"
   ]
  },
  {
   "cell_type": "code",
   "execution_count": 31,
   "metadata": {},
   "outputs": [
    {
     "data": {
      "text/plain": [
       "tensor([[6.2800],\n",
       "        [6.9250],\n",
       "        [7.7473],\n",
       "        ...,\n",
       "        [6.9301],\n",
       "        [8.6558],\n",
       "        [8.0567]])"
      ]
     },
     "execution_count": 31,
     "metadata": {},
     "output_type": "execute_result"
    }
   ],
   "source": [
    "with torch.no_grad():\n",
    "    predictions = model(x_test)\n",
    "predictions"
   ]
  },
  {
   "cell_type": "code",
   "execution_count": 32,
   "metadata": {},
   "outputs": [
    {
     "data": {
      "text/plain": [
       "<matplotlib.collections.PathCollection at 0x7fd8f40507f0>"
      ]
     },
     "execution_count": 32,
     "metadata": {},
     "output_type": "execute_result"
    },
    {
     "data": {
      "image/png": "[encoded data removed]",
      "text/plain": [
       "<Figure size 432x288 with 1 Axes>"
      ]
     },
     "metadata": {
      "needs_background": "light"
     },
     "output_type": "display_data"
    }
   ],
   "source": [
    "plt.scatter(y_test, predictions)"
   ]
  },
  {
   "cell_type": "markdown",
   "metadata": {},
   "source": [
    "Seems like our predictions aren't terrible!"
   ]
  },
  {
   "cell_type": "markdown",
   "metadata": {},
   "source": [
    "### Predict against Kinases"
   ]
  },
  {
   "cell_type": "markdown",
   "metadata": {},
   "source": [
    "Choose an example SMILE"
   ]
  },
  {
   "cell_type": "code",
   "execution_count": 33,
   "metadata": {},
   "outputs": [
    {
     "data": {
      "text/plain": [
       "SMILES               C#CCCOC(=O)N1CCC(n2cc(C(N)=O)c(Nc3ccc(F)cc3)n2...\n",
       "measurement_type                                                 pIC50\n",
       "measurement_value                                                 6.81\n",
       "Kinase_name                                                       JAK2\n",
       "Name: 0, dtype: object"
      ]
     },
     "execution_count": 33,
     "metadata": {},
     "output_type": "execute_result"
    }
   ],
   "source": [
    "input_smile = df.iloc[0]['SMILES']\n",
    "df.iloc[0]"
   ]
  },
  {
   "cell_type": "markdown",
   "metadata": {},
   "source": [
    "Get molecular description data"
   ]
  },
  {
   "cell_type": "code",
   "execution_count": 34,
   "metadata": {},
   "outputs": [],
   "source": [
    "mol = Chem.MolFromSmiles(input_smile)\n",
    "input_features = chem_calc.pandas([mol])"
   ]
  },
  {
   "cell_type": "markdown",
   "metadata": {},
   "source": [
    "We want to make predictions against 4 Kinases. We can do this by creating 4 samples with the same molecular features but each with a different Kinase."
   ]
  },
  {
   "cell_type": "code",
   "execution_count": 35,
   "metadata": {},
   "outputs": [
    {
     "data": {
      "text/html": [
       "<div>\n",
       "<style scoped>\n",
       "    .dataframe tbody tr th:only-of-type {\n",
       "        vertical-align: middle;\n",
       "    }\n",
       "\n",
       "    .dataframe tbody tr th {\n",
       "        vertical-align: top;\n",
       "    }\n",
       "\n",
       "    .dataframe thead th {\n",
       "        text-align: right;\n",
       "    }\n",
       "</style>\n",
       "<table border=\"1\" class=\"dataframe\">\n",
       "  <thead>\n",
       "    <tr style=\"text-align: right;\">\n",
       "      <th></th>\n",
       "      <th>JAK1</th>\n",
       "      <th>JAK2</th>\n",
       "      <th>JAK3</th>\n",
       "      <th>TYK2</th>\n",
       "      <th>measurement_type_pIC50</th>\n",
       "      <th>measurement_type_pKi</th>\n",
       "      <th>ABC</th>\n",
       "      <th>ABCGG</th>\n",
       "      <th>nAcid</th>\n",
       "      <th>nBase</th>\n",
       "      <th>...</th>\n",
       "      <th>SRW10</th>\n",
       "      <th>TSRW10</th>\n",
       "      <th>MW</th>\n",
       "      <th>AMW</th>\n",
       "      <th>WPath</th>\n",
       "      <th>WPol</th>\n",
       "      <th>Zagreb1</th>\n",
       "      <th>Zagreb2</th>\n",
       "      <th>mZagreb1</th>\n",
       "      <th>mZagreb2</th>\n",
       "    </tr>\n",
       "  </thead>\n",
       "  <tbody>\n",
       "    <tr>\n",
       "      <th>0</th>\n",
       "      <td>1</td>\n",
       "      <td>0</td>\n",
       "      <td>0</td>\n",
       "      <td>0</td>\n",
       "      <td>0</td>\n",
       "      <td>1</td>\n",
       "      <td>23.569882</td>\n",
       "      <td>18.453764</td>\n",
       "      <td>0</td>\n",
       "      <td>0</td>\n",
       "      <td>...</td>\n",
       "      <td>10.214532</td>\n",
       "      <td>80.482278</td>\n",
       "      <td>424.165917</td>\n",
       "      <td>8.157037</td>\n",
       "      <td>2959</td>\n",
       "      <td>47</td>\n",
       "      <td>156.0</td>\n",
       "      <td>181.0</td>\n",
       "      <td>10.861111</td>\n",
       "      <td>7.055556</td>\n",
       "    </tr>\n",
       "    <tr>\n",
       "      <th>0</th>\n",
       "      <td>0</td>\n",
       "      <td>1</td>\n",
       "      <td>0</td>\n",
       "      <td>0</td>\n",
       "      <td>0</td>\n",
       "      <td>1</td>\n",
       "      <td>23.569882</td>\n",
       "      <td>18.453764</td>\n",
       "      <td>0</td>\n",
       "      <td>0</td>\n",
       "      <td>...</td>\n",
       "      <td>10.214532</td>\n",
       "      <td>80.482278</td>\n",
       "      <td>424.165917</td>\n",
       "      <td>8.157037</td>\n",
       "      <td>2959</td>\n",
       "      <td>47</td>\n",
       "      <td>156.0</td>\n",
       "      <td>181.0</td>\n",
       "      <td>10.861111</td>\n",
       "      <td>7.055556</td>\n",
       "    </tr>\n",
       "    <tr>\n",
       "      <th>0</th>\n",
       "      <td>0</td>\n",
       "      <td>0</td>\n",
       "      <td>1</td>\n",
       "      <td>0</td>\n",
       "      <td>0</td>\n",
       "      <td>1</td>\n",
       "      <td>23.569882</td>\n",
       "      <td>18.453764</td>\n",
       "      <td>0</td>\n",
       "      <td>0</td>\n",
       "      <td>...</td>\n",
       "      <td>10.214532</td>\n",
       "      <td>80.482278</td>\n",
       "      <td>424.165917</td>\n",
       "      <td>8.157037</td>\n",
       "      <td>2959</td>\n",
       "      <td>47</td>\n",
       "      <td>156.0</td>\n",
       "      <td>181.0</td>\n",
       "      <td>10.861111</td>\n",
       "      <td>7.055556</td>\n",
       "    </tr>\n",
       "    <tr>\n",
       "      <th>0</th>\n",
       "      <td>0</td>\n",
       "      <td>0</td>\n",
       "      <td>0</td>\n",
       "      <td>1</td>\n",
       "      <td>0</td>\n",
       "      <td>1</td>\n",
       "      <td>23.569882</td>\n",
       "      <td>18.453764</td>\n",
       "      <td>0</td>\n",
       "      <td>0</td>\n",
       "      <td>...</td>\n",
       "      <td>10.214532</td>\n",
       "      <td>80.482278</td>\n",
       "      <td>424.165917</td>\n",
       "      <td>8.157037</td>\n",
       "      <td>2959</td>\n",
       "      <td>47</td>\n",
       "      <td>156.0</td>\n",
       "      <td>181.0</td>\n",
       "      <td>10.861111</td>\n",
       "      <td>7.055556</td>\n",
       "    </tr>\n",
       "  </tbody>\n",
       "</table>\n",
       "<p>4 rows × 1303 columns</p>\n",
       "</div>"
      ],
      "text/plain": [
       "   JAK1  JAK2  JAK3  TYK2  measurement_type_pIC50  measurement_type_pKi  \\\n",
       "0     1     0     0     0                       0                     1   \n",
       "0     0     1     0     0                       0                     1   \n",
       "0     0     0     1     0                       0                     1   \n",
       "0     0     0     0     1                       0                     1   \n",
       "\n",
       "         ABC      ABCGG  nAcid  nBase  ...      SRW10     TSRW10          MW  \\\n",
       "0  23.569882  18.453764      0      0  ...  10.214532  80.482278  424.165917   \n",
       "0  23.569882  18.453764      0      0  ...  10.214532  80.482278  424.165917   \n",
       "0  23.569882  18.453764      0      0  ...  10.214532  80.482278  424.165917   \n",
       "0  23.569882  18.453764      0      0  ...  10.214532  80.482278  424.165917   \n",
       "\n",
       "        AMW  WPath  WPol  Zagreb1  Zagreb2   mZagreb1  mZagreb2  \n",
       "0  8.157037   2959    47    156.0    181.0  10.861111  7.055556  \n",
       "0  8.157037   2959    47    156.0    181.0  10.861111  7.055556  \n",
       "0  8.157037   2959    47    156.0    181.0  10.861111  7.055556  \n",
       "0  8.157037   2959    47    156.0    181.0  10.861111  7.055556  \n",
       "\n",
       "[4 rows x 1303 columns]"
      ]
     },
     "execution_count": 35,
     "metadata": {},
     "output_type": "execute_result"
    }
   ],
   "source": [
    "input_features = pd.concat([input_features]*4)\n",
    "input_features[['JAK1', 'JAK2', 'JAK3', 'TYK2']] = np.diag([1,1,1,1])\n",
    "# We're only interested in pKi so we'll set pIC50 to zero\n",
    "input_features[['measurement_type_pIC50', 'measurement_type_pKi']] = [0,1]\n",
    "input_features = input_features[mol_columns]\n",
    "input_features\n"
   ]
  },
  {
   "cell_type": "markdown",
   "metadata": {},
   "source": [
    "Now scale and make it a tensor"
   ]
  },
  {
   "cell_type": "code",
   "execution_count": 36,
   "metadata": {},
   "outputs": [],
   "source": [
    "scaled_input_features = pd.DataFrame(scaler.transform(input_features), columns=mol_columns)\n",
    "tensor_input_features = torch.tensor(scaled_input_features.values)"
   ]
  },
  {
   "cell_type": "markdown",
   "metadata": {},
   "source": [
    "Load our Model"
   ]
  },
  {
   "cell_type": "code",
   "execution_count": 37,
   "metadata": {},
   "outputs": [],
   "source": [
    "loaded_model = torch.jit.load('model_assets/model_scripted.pt')"
   ]
  },
  {
   "cell_type": "markdown",
   "metadata": {},
   "source": [
    "Predict"
   ]
  },
  {
   "cell_type": "code",
   "execution_count": 40,
   "metadata": {},
   "outputs": [
    {
     "data": {
      "text/plain": [
       "RecursiveScriptModule(\n",
       "  original_name=NeuralNetwork\n",
       "  (flatten): RecursiveScriptModule(original_name=Flatten)\n",
       "  (linear_relu_stack): RecursiveScriptModule(\n",
       "    original_name=Sequential\n",
       "    (0): RecursiveScriptModule(original_name=Linear)\n",
       "    (1): RecursiveScriptModule(original_name=ReLU)\n",
       "    (2): RecursiveScriptModule(original_name=Linear)\n",
       "    (3): RecursiveScriptModule(original_name=ReLU)\n",
       "    (4): RecursiveScriptModule(original_name=Linear)\n",
       "  )\n",
       ")"
      ]
     },
     "execution_count": 40,
     "metadata": {},
     "output_type": "execute_result"
    }
   ],
   "source": [
    "loaded_model.eval()"
   ]
  },
  {
   "cell_type": "code",
   "execution_count": 41,
   "metadata": {},
   "outputs": [],
   "source": [
    "with torch.no_grad():\n",
    "    result = loaded_model(tensor_input_features)"
   ]
  },
  {
   "cell_type": "code",
   "execution_count": 42,
   "metadata": {},
   "outputs": [
    {
     "name": "stdout",
     "output_type": "stream",
     "text": [
      "JAK1 kPi: 8.2319917678833\n",
      "JAK2 kPi: 7.448752403259277\n",
      "JAK3 kPi: 7.485004425048828\n",
      "TYK2 kPi: 7.216372489929199\n"
     ]
    }
   ],
   "source": [
    "for kinase, r in zip(['JAK1', 'JAK2', 'JAK3', 'TYK2'], torch.flatten(result)):\n",
    "    print(kinase, 'kPi:', r.item())"
   ]
  },
  {
   "cell_type": "markdown",
   "metadata": {},
   "source": [
    "Our model is able to predict pKi's for a given molecule against different kinases!"
   ]
  },
  {
   "cell_type": "markdown",
   "metadata": {},
   "source": [
    "# Run with Flask"
   ]
  },
  {
   "cell_type": "markdown",
   "metadata": {},
   "source": [
    "Next, lets host this model locally with Flask. \n",
    "\n",
    "Steps:\n",
    "1. Run the next cell\n",
    "1. Visit http://127.0.0.1:5001\n",
    "1. Enter a SMILE such as CC(=O)SCC1CCC(c2nnn3cnc4[nH]ccc4c23)CC1\n",
    "1. Interrupt this kernel to stop the server."
   ]
  },
  {
   "cell_type": "code",
   "execution_count": 45,
   "metadata": {},
   "outputs": [
    {
     "name": "stdout",
     "output_type": "stream",
     "text": [
      " * Serving Flask app 'local_app' (lazy loading)\n",
      " * Environment: production\n",
      "\u001b[31m   WARNING: This is a development server. Do not use it in a production deployment.\u001b[0m\n",
      "\u001b[2m   Use a production WSGI server instead.\u001b[0m\n",
      " * Debug mode: off\n"
     ]
    },
    {
     "name": "stderr",
     "output_type": "stream",
     "text": [
      " * Running on http://127.0.0.1:5001 (Press CTRL+C to quit)\n",
      "127.0.0.1 - - [06/Jun/2022 18:57:27] \"GET / HTTP/1.1\" 200 -\n",
      "127.0.0.1 - - [06/Jun/2022 18:57:33] \"POST /result HTTP/1.1\" 200 -\n"
     ]
    },
    {
     "name": "stdout",
     "output_type": "stream",
     "text": [
      "SUCCESS!\n"
     ]
    }
   ],
   "source": [
    "# You'll need to interrupt the kernel to stop this\n",
    "%run local_app.py"
   ]
  },
  {
   "cell_type": "markdown",
   "metadata": {},
   "source": [
    "# Next Steps"
   ]
  },
  {
   "cell_type": "markdown",
   "metadata": {},
   "source": [
    "Let's push this to the cloud! \n",
    "You can use the Dockerfile and setup.sh file to setup our SMILE predictor on an AWS EC2...\n",
    "\n",
    "or you can visit it live at: http://44.224.22.163:5000/"
   ]
  },
  {
   "cell_type": "markdown",
   "metadata": {},
   "source": [
    "[back-to-top](#contents)"
   ]
  }
 ],
 "metadata": {
  "interpreter": {
   "hash": "7a6b2820e510fa4a2f3a99f7906b8b0df4224b48b28e16b0d9421e32b66a73d1"
  },
  "kernelspec": {
   "display_name": "Python 3 (ipykernel)",
   "language": "python",
   "name": "python3"
  },
  "language_info": {
   "codemirror_mode": {
    "name": "ipython",
    "version": 3
   },
   "file_extension": ".py",
   "mimetype": "text/x-python",
   "name": "python",
   "nbconvert_exporter": "python",
   "pygments_lexer": "ipython3",
   "version": "3.8.10"
  }
 },
 "nbformat": 4,
 "nbformat_minor": 2
}
